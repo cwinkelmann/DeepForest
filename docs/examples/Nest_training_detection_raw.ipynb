{
 "cells": [
  {
   "cell_type": "markdown",
   "id": "ac8362c7-7e69-4741-9930-c72eb1056899",
   "metadata": {},
   "source": [
    "# Nest Detection Training\n",
    "\n",
    "Train a model which detects nests. The data from a tutorial is taken. That is just a tutorial and but the method isn't that different to the birds detection paper. \n",
    "\n",
    "Then evaluate the model on the leaked data"
   ]
  },
  {
   "cell_type": "code",
   "execution_count": null,
   "id": "82e70d2e-9ffb-4ad5-94a7-7e6771ff8674",
   "metadata": {},
   "outputs": [],
   "source": [
    "!git clone https://github.com/weecology/DeepForest.git"
   ]
  },
  {
   "cell_type": "code",
   "execution_count": null,
   "id": "83edd713-0b8a-4d57-8b89-6f9a1c633ec8",
   "metadata": {},
   "outputs": [],
   "source": [
    "! pip uninstall -y deepforest"
   ]
  },
  {
   "cell_type": "code",
   "execution_count": null,
   "id": "11e6ef0d-0a4a-4e33-aa93-ddd6ce8e21ec",
   "metadata": {
    "collapsed": true,
    "jupyter": {
     "outputs_hidden": true
    }
   },
   "outputs": [],
   "source": [
    "%cd DeepForest\n",
    "!pip install -e .\n",
    "%cd .."
   ]
  },
  {
   "cell_type": "code",
   "execution_count": null,
   "id": "0a466e55-74ca-4dbd-afe8-973152a7f3b1",
   "metadata": {},
   "outputs": [],
   "source": [
    "import os\n",
    "import sys\n",
    "\n",
    "deepforest_path = os.path.abspath(\"DeepForest\")\n",
    "deepforest_path\n",
    "\n"
   ]
  },
  {
   "cell_type": "code",
   "execution_count": null,
   "id": "7e4c509e-572f-4663-a6b7-16e28eb9bb5b",
   "metadata": {},
   "outputs": [],
   "source": [
    "if deepforest_path not in sys.path:\n",
    "    sys.path.append(deepforest_path)\n",
    "\n",
    "deepforest_path_d = \"/home/jovyan/DeepForest/deepforest\"\n",
    "if deepforest_path_d not in sys.path:\n",
    "    sys.path.append(deepforest_path_d)\n",
    "    "
   ]
  },
  {
   "cell_type": "code",
   "execution_count": null,
   "id": "60df544a-f3a3-4218-9d6f-250441845705",
   "metadata": {},
   "outputs": [],
   "source": [
    "!ls /home/jovyan/DeepForest"
   ]
  },
  {
   "cell_type": "code",
   "execution_count": null,
   "id": "6ced8567-2c1f-4823-b648-aa302efe802e",
   "metadata": {},
   "outputs": [],
   "source": [
    "# load the modules\n",
    "# import comet_ml\n",
    "import wandb\n",
    "import os\n",
    "import time\n",
    "import numpy as np\n",
    "import pandas as pd\n",
    "import torch\n",
    "from deepforest import main\n",
    "from deepforest import get_data\n",
    "from deepforest import utilities\n",
    "from deepforest import preprocess\n",
    "from tqdm import tqdm\n",
    "from pytorch_lightning.loggers import CometLogger, WandbLogger\n",
    "import zipfile\n",
    "import matplotlib.pyplot as plt\n",
    "import subprocess"
   ]
  },
  {
   "cell_type": "code",
   "execution_count": null,
   "id": "7d66bf75-2aad-4411-996a-72de0275bc18",
   "metadata": {},
   "outputs": [],
   "source": [
    "wandb_logger = WandbLogger()"
   ]
  },
  {
   "cell_type": "code",
   "execution_count": null,
   "id": "3c4ca647-6fbe-449c-904e-6ba0fbb456db",
   "metadata": {},
   "outputs": [],
   "source": [
    "# "
   ]
  },
  {
   "cell_type": "code",
   "execution_count": null,
   "id": "2b197194-9d00-455e-84be-d7686bc644e0",
   "metadata": {},
   "outputs": [],
   "source": [
    "crop_dir = os.path.join(os.getcwd(), \"train_data_folder\")\n",
    "\n",
    "# save to file and create the file dir\n",
    "annotations_file = os.path.join(crop_dir, \"train.csv\")\n",
    "validation_file = os.path.join(crop_dir, \"valid.csv\")\n",
    "test_file = os.path.join(crop_dir, \"test.csv\")"
   ]
  },
  {
   "cell_type": "code",
   "execution_count": null,
   "id": "e96207e4-1388-46d8-8aa8-d44345259201",
   "metadata": {},
   "outputs": [],
   "source": []
  },
  {
   "cell_type": "code",
   "execution_count": null,
   "id": "5415799b-580b-42ac-86a9-b77279389cf7",
   "metadata": {},
   "outputs": [],
   "source": [
    "annotations_file"
   ]
  },
  {
   "cell_type": "code",
   "execution_count": null,
   "id": "4c0acb03-6195-40cf-a6ab-e00eadb68024",
   "metadata": {},
   "outputs": [],
   "source": [
    "# initialize the model and change the corresponding config file\n",
    "m = main.deepforest(label_dict={\"Nest\": 0})\n",
    "\n",
    "m.config[\"batch_size\"] = 30\n",
    "\n",
    "# move to GPU and use all the GPU resources\n",
    "m.config[\"gpus\"] = \"-1\"\n",
    "m.config[\"train\"][\"csv_file\"] = annotations_file\n",
    "m.config[\"train\"][\"root_dir\"] = os.path.dirname(annotations_file)\n",
    "m.config[\"train\"][\"epochs\"] = 100\n",
    "\n",
    "# Define the learning scheduler type\n",
    "m.config[\"train\"][\"scheduler\"][\"type\"] = \"cosine\"\n",
    "m.config[\"score_thresh\"] = 0.4\n",
    "\n",
    "m.config[\"validation\"][\"csv_file\"] = validation_file\n",
    "m.config[\"validation\"][\"root_dir\"] = os.path.dirname(validation_file)"
   ]
  },
  {
   "cell_type": "code",
   "execution_count": null,
   "id": "27260007-5184-4d05-8aef-62e5725cdf0b",
   "metadata": {},
   "outputs": [],
   "source": [
    "# create a pytorch lighting trainer used to training\n",
    "# m.create_trainer()\n",
    "m.create_trainer(logger=wandb_logger)\n",
    "# load the lastest release model (RetinaNet)\n",
    "m.use_bird_release()"
   ]
  },
  {
   "cell_type": "code",
   "execution_count": null,
   "id": "ce7ec012-1396-43c4-be8f-22d151212a17",
   "metadata": {
    "scrolled": true
   },
   "outputs": [],
   "source": [
    "# Start the training\n",
    "start_time = time.time()\n",
    "m.trainer.fit(m)\n",
    "print(f\"--- Training on GPU: {(time.time() - start_time):.2f} seconds ---\")"
   ]
  },
  {
   "cell_type": "code",
   "execution_count": null,
   "id": "9edb5a46-c120-49ea-b31f-6c2d4a33ee2b",
   "metadata": {},
   "outputs": [],
   "source": [
    "from pathlib import Path\n",
    "root_folder = Path(\"models\")\n",
    "\n",
    "# Save the model checkpoint\n",
    "m.trainer.save_checkpoint(\n",
    "    os.path.join(root_folder, \"checkpoint_cosine_lr.pl\")\n",
    ")\n",
    "# TODO do I need this even?\n",
    "torch.save(m.model.state_dict(), os.path.join(root_folder, \"weights_cosine_lr\"))"
   ]
  },
  {
   "cell_type": "code",
   "execution_count": null,
   "id": "4e42e179-3926-437b-97b0-61fb783d2ece",
   "metadata": {},
   "outputs": [],
   "source": [
    "!rm -rf pred_result_test"
   ]
  },
  {
   "cell_type": "code",
   "execution_count": null,
   "id": "7a9adfe3-d136-4432-8bc4-3da6dd0c6420",
   "metadata": {},
   "outputs": [],
   "source": [
    "save_dir = os.path.join(os.getcwd(), \"pred_result_test\")\n",
    "results = m.evaluate(\n",
    "    test_file, os.path.dirname(test_file), iou_threshold=0.4, savedir=save_dir\n",
    ")\n"
   ]
  },
  {
   "cell_type": "code",
   "execution_count": null,
   "id": "172c43b7-dae0-428d-9cf8-22beae4cb151",
   "metadata": {},
   "outputs": [],
   "source": [
    "results[\"box_precision\"]"
   ]
  },
  {
   "cell_type": "code",
   "execution_count": null,
   "id": "cc65c7a7-d1be-48d3-b6ef-9008cf62fb49",
   "metadata": {},
   "outputs": [],
   "source": [
    "results[\"box_recall\"]"
   ]
  },
  {
   "cell_type": "code",
   "execution_count": null,
   "id": "ca67b3e4-ff60-41a8-99ed-47f816c44f0d",
   "metadata": {},
   "outputs": [],
   "source": [
    "root_folder"
   ]
  },
  {
   "cell_type": "code",
   "execution_count": null,
   "id": "b2171a64-bd82-4ef4-842f-a75bc5eb0e37",
   "metadata": {},
   "outputs": [],
   "source": [
    "# Load from the saved checkpoint and evaluate it to see if the persistance workds\n",
    "model = main.deepforest.load_from_checkpoint(\n",
    "    os.path.join(root_folder, \"checkpoint_cosine_lr.pl\")\n",
    ")"
   ]
  },
  {
   "cell_type": "code",
   "execution_count": null,
   "id": "8d0a2449-b359-4466-ba8d-43d2ec87a910",
   "metadata": {},
   "outputs": [],
   "source": [
    "save_dir = os.path.join(os.getcwd(), \"pred_result_test\")\n",
    "results_loaded = model.evaluate(\n",
    "    test_file, os.path.dirname(test_file), iou_threshold=0.4, savedir=save_dir\n",
    ")\n"
   ]
  },
  {
   "cell_type": "code",
   "execution_count": null,
   "id": "7a62b1f2-f222-49e0-8864-2f1902cb333f",
   "metadata": {},
   "outputs": [],
   "source": [
    "## Inspecting the results on the leaked data"
   ]
  },
  {
   "cell_type": "code",
   "execution_count": null,
   "id": "4b37ee50-34b3-4058-b372-2e9f7aa43541",
   "metadata": {},
   "outputs": [],
   "source": [
    "results_loaded[\"box_precision\"]"
   ]
  },
  {
   "cell_type": "code",
   "execution_count": null,
   "id": "095e7c2c-ccf8-40ba-b73e-23c180ed6943",
   "metadata": {},
   "outputs": [],
   "source": [
    "results_loaded[\"box_recall\"]"
   ]
  },
  {
   "cell_type": "code",
   "execution_count": null,
   "id": "1e041239-3bd7-4b28-8ad9-1da433519dcf",
   "metadata": {},
   "outputs": [],
   "source": [
    "## with default score threshold of\n",
    "print(f\"score threshold: {model.model.score_thresh}\")\n",
    "\n",
    "# Add a path to an image to test the model on\n",
    "raster_path = \"./deep_forest_root/dataset/Horus_04_27_2022_DJI_0245.JPG\"\n",
    "predicted_raster = model.predict_tile(\n",
    "    raster_path, return_plot=True, patch_size=400, patch_overlap=0.25, thickness=10, color=(255, 0, 0)\n",
    ")\n",
    "plt.imshow(predicted_raster)\n",
    "plt.show()"
   ]
  },
  {
   "cell_type": "code",
   "execution_count": null,
   "id": "b8d82a74-4bcc-4da8-9d2f-1a10d743155a",
   "metadata": {},
   "outputs": [],
   "source": [
    "model.model.score_thresh = 0.8\n",
    "# Add a path to an image to test the model on\n",
    "raster_path = \"./deep_forest_root/dataset/Horus_04_27_2022_DJI_0245.JPG\"\n",
    "predicted_raster = model.predict_tile(\n",
    "    raster_path, return_plot=True, patch_size=300, patch_overlap=0.25, thickness=10, color=(255, 0, 0)\n",
    ")\n",
    "plt.imshow(predicted_raster)\n",
    "plt.show()"
   ]
  },
  {
   "cell_type": "code",
   "execution_count": null,
   "id": "8e77548e-cbb8-4783-bd9a-b74632b6b99b",
   "metadata": {},
   "outputs": [],
   "source": [
    "raster_path = \"./deep_forest_root/dataset/Horus_04_27_2022_DJI_0245.JPG\"\n",
    "predicted_detections = model.predict_tile(\n",
    "    raster_path, return_plot=False, patch_size=300, patch_overlap=0.25\n",
    ")"
   ]
  },
  {
   "cell_type": "code",
   "execution_count": null,
   "id": "a99b80cc-554d-461f-98a1-fae2c2294b59",
   "metadata": {},
   "outputs": [],
   "source": [
    "predicted_detections"
   ]
  },
  {
   "cell_type": "code",
   "execution_count": null,
   "id": "85be2432-d309-4db6-a33e-e7254ed5214c",
   "metadata": {},
   "outputs": [],
   "source": [
    "predicted_detections[predicted_detections.score > 0.8]"
   ]
  },
  {
   "cell_type": "code",
   "execution_count": null,
   "id": "9858dae5-3e97-4be1-8e1f-bf2088c299e4",
   "metadata": {},
   "outputs": [],
   "source": [
    "import pandas as pd\n",
    "df_nest_data = pd.read_csv(\"deep_forest_root/dataset/nest_data.csv\")\n",
    "df_nest_data[df_nest_data.image_path == \"Horus_04_27_2022_DJI_0245.JPG\"]"
   ]
  },
  {
   "cell_type": "code",
   "execution_count": null,
   "id": "4db81f3f-7658-408d-a00e-fd6c4a0880d9",
   "metadata": {},
   "outputs": [],
   "source": [
    "# TODO evaluate on full size images"
   ]
  },
  {
   "cell_type": "code",
   "execution_count": null,
   "id": "eebe18df-95cc-434e-84c2-d591000807bf",
   "metadata": {},
   "outputs": [],
   "source": [
    "## predict on an orthomosaic\n",
    "\n",
    "raster_path = \"datasets/JetportNew_C.tif\"\n",
    "predicted_detections = model.predict_tile(\n",
    "    raster_path, return_plot=True, patch_size=300, patch_overlap=0.25\n",
    ")"
   ]
  },
  {
   "cell_type": "markdown",
   "id": "14976a47-18bf-4274-9024-ebf222403cce",
   "metadata": {},
   "source": [
    "## Have a look at the predictions on an orthomosaic"
   ]
  },
  {
   "cell_type": "code",
   "execution_count": null,
   "id": "36f7d0a6-924b-4733-997b-89cf1b61d9ca",
   "metadata": {},
   "outputs": [],
   "source": [
    "from deepforest import visualize\n",
    "import supervision as sv\n",
    "import cv2\n",
    "import matplotlib.pyplot as plt\n",
    "\n",
    "# Convert the tree detections to Supervision format for visualization\n",
    "sv_detections = visualize.convert_to_sv_format(predicted_detections)\n",
    "\n",
    "# Create a bounding box annotator\n",
    "bounding_box_annotator = sv.BoxAnnotator()\n",
    "\n",
    "image_path = \"datasets/JetportNew_C.tif\"\n",
    "image = cv2.imread(image_path)\n",
    "\n",
    "# Annotate the image with bounding boxes\n",
    "annotated_frame = bounding_box_annotator.annotate(\n",
    "    scene=image,\n",
    "    detections=sv_detections\n",
    ")\n",
    "\n",
    "from PIL import Image\n",
    "im = Image.fromarray(annotated_frame)\n",
    "im.save(\"datasets/JetportNew_C_predicted.jpeg\")\n",
    "\n",
    "# Display the annotated image using Matplotlib\n",
    "plt.imshow(annotated_frame)\n",
    "plt.axis('off')  # Hide axes for a cleaner look\n",
    "plt.show()"
   ]
  },
  {
   "cell_type": "markdown",
   "id": "d29876b3-d0eb-4d64-b0a8-710a04471123",
   "metadata": {},
   "source": [
    "### Evaluate manually"
   ]
  },
  {
   "cell_type": "code",
   "execution_count": null,
   "id": "718a262e-131a-4760-8494-16628377ae29",
   "metadata": {},
   "outputs": [],
   "source": [
    "# !unzip \"/home/jovyan/deep_forest_root/JetportNew A.zip\"\n",
    "!mv \"/home/jovyan/datasets/JetportNew A\" \"/home/jovyan/datasets/JetportNew_A\""
   ]
  },
  {
   "cell_type": "code",
   "execution_count": null,
   "id": "54faee1e-2e76-445e-8672-dbf246cfb5aa",
   "metadata": {},
   "outputs": [],
   "source": [
    "!pwd"
   ]
  },
  {
   "cell_type": "code",
   "execution_count": null,
   "id": "bc5cb8be-8cff-4321-bfd7-5529d13cb28d",
   "metadata": {
    "collapsed": true,
    "jupyter": {
     "outputs_hidden": true
    }
   },
   "outputs": [],
   "source": [
    "\n",
    "# load the modules\n",
    "import os\n",
    "\n",
    "from deepforest import main\n",
    "from pathlib import Path\n",
    "\n",
    "extract_folder = Path(\"/home/jovyan/datasets/JetportNew_A\")\n",
    "\n",
    "model.model.score_thresh = 0.8\n",
    "predictions = []\n",
    "\n",
    "for image_name in extract_folder.glob(\"*.JPG\"):\n",
    "\n",
    "    df_pred = model.predict_tile(\n",
    "        extract_folder / image_name, return_plot=False, patch_size=400, patch_overlap=0.25\n",
    "    )\n",
    "\n",
    "    predictions.append(df_pred)\n",
    "\n",
    "\n"
   ]
  },
  {
   "cell_type": "code",
   "execution_count": null,
   "id": "a7f87ea2-de7b-4c01-881a-3e4e06a647c1",
   "metadata": {},
   "outputs": [],
   "source": [
    "df_prediction_short = pd.concat(predictions, axis=0)[[\"image_path\", \"xmin\", \"ymin\", \"xmax\", \"ymax\", \"label\"]]\n",
    "df_prediction_short\n",
    "\n",
    "df_prediction_short.to_csv(\"predictions.csv\")\n",
    "\n",
    "df_gt = pd.read_csv(\"/home/jovyan/deep_forest_root/dataset/nest_data.csv\")\n",
    "\n",
    "df_filtered = df_gt[df_gt.image_path.isin( [x.name for x in list(extract_folder.glob(\"*.JPG\"))] )]\n",
    "\n",
    "df_filtered.to_csv(\"ground_truth.csv\")"
   ]
  },
  {
   "cell_type": "code",
   "execution_count": null,
   "id": "2bee87a9-e9c0-4742-ab5b-e03ff583f589",
   "metadata": {},
   "outputs": [],
   "source": [
    "def calculate_iou(box1, box2):\n",
    "    \"\"\"\n",
    "    Calculate Intersection over Union (IoU) between two bounding boxes.\n",
    "    Each box is represented as [xmin, ymin, xmax, ymax]\n",
    "    \"\"\"\n",
    "    x1_max = max(box1[0], box2[0])\n",
    "    y1_max = max(box1[1], box2[1])\n",
    "    x2_min = min(box1[2], box2[2])\n",
    "    y2_min = min(box1[3], box2[3])\n",
    "\n",
    "    # Calculate intersection area\n",
    "    inter_width = max(0, x2_min - x1_max)\n",
    "    inter_height = max(0, y2_min - y1_max)\n",
    "    inter_area = inter_width * inter_height\n",
    "\n",
    "    # Calculate areas of both bounding boxes\n",
    "    box1_area = (box1[2] - box1[0]) * (box1[3] - box1[1])\n",
    "    box2_area = (box2[2] - box2[0]) * (box2[3] - box2[1])\n",
    "\n",
    "    # Calculate union area\n",
    "    union_area = box1_area + box2_area - inter_area\n",
    "\n",
    "    # Return IoU\n",
    "    if union_area == 0:\n",
    "        return 0\n",
    "    return inter_area / union_area"
   ]
  },
  {
   "cell_type": "code",
   "execution_count": null,
   "id": "8997daf8-a77f-4dc9-9f31-d087022be4c9",
   "metadata": {},
   "outputs": [],
   "source": [
    "def calculate_precision_recall(ground_truth_file, predictions_file, iou_threshold=0.5):\n",
    "    \"\"\"\n",
    "    Calculate precision and recall given ground truth and predictions CSV files.\n",
    "    \"\"\"\n",
    "    # Read both CSV files\n",
    "    ground_truth_df = pd.read_csv(ground_truth_file)\n",
    "    predictions_df = pd.read_csv(predictions_file)\n",
    "\n",
    "    true_positives = 0\n",
    "    false_positives = 0\n",
    "    false_negatives = 0\n",
    "\n",
    "    # Loop over ground truth data by image\n",
    "    for image_path in ground_truth_df['image_path'].unique():\n",
    "        # Get ground truth and predictions for the current image\n",
    "        ground_truth_boxes = ground_truth_df[ground_truth_df['image_path'] == image_path]\n",
    "        predicted_boxes = predictions_df[predictions_df['image_path'] == image_path]\n",
    "\n",
    "        # Track matches to avoid duplicates\n",
    "        matched_ground_truth = set()\n",
    "        matched_predictions = set()\n",
    "\n",
    "        # Compare each prediction to ground truth boxes\n",
    "        for idx_pred, pred_row in predicted_boxes.iterrows():\n",
    "            pred_box = [pred_row['xmin'], pred_row['ymin'], pred_row['xmax'], pred_row['ymax']]\n",
    "            matched = False\n",
    "            for idx_gt, gt_row in ground_truth_boxes.iterrows():\n",
    "                if idx_gt in matched_ground_truth:\n",
    "                    continue\n",
    "\n",
    "                gt_box = [gt_row['xmin'], gt_row['ymin'], gt_row['xmax'], gt_row['ymax']]\n",
    "                iou = calculate_iou(pred_box, gt_box)\n",
    "\n",
    "                if iou >= iou_threshold:\n",
    "                    true_positives += 1\n",
    "                    matched_ground_truth.add(idx_gt)\n",
    "                    matched_predictions.add(idx_pred)\n",
    "                    matched = True\n",
    "                    break\n",
    "\n",
    "            if not matched:\n",
    "                false_positives += 1\n",
    "\n",
    "        # Any ground truth boxes not matched are false negatives\n",
    "        false_negatives += len(ground_truth_boxes) - len(matched_ground_truth)\n",
    "\n",
    "    # Calculate precision and recall\n",
    "    precision = true_positives / (true_positives + false_positives) if (true_positives + false_positives) > 0 else 0\n",
    "    recall = true_positives / (true_positives + false_negatives) if (true_positives + false_negatives) > 0 else 0\n",
    "\n",
    "    return precision, recall"
   ]
  },
  {
   "cell_type": "code",
   "execution_count": null,
   "id": "e235bacb-beb7-4b91-8ad0-27ed85becae3",
   "metadata": {},
   "outputs": [],
   "source": [
    "precision, recall = calculate_precision_recall(ground_truth_file=\"ground_truth.csv\", \n",
    "                           predictions_file=\"predictions.csv\", \n",
    "                           iou_threshold=0.2)\n",
    "\n",
    "print(f\"precision: {precision}, recall: {recall}\")\n",
    "print(f\"With a dataset which was trained on leaked data the precision isn't that good\")"
   ]
  },
  {
   "cell_type": "code",
   "execution_count": null,
   "id": "e1997e29-8b3d-4d8d-98ff-dac0b2941334",
   "metadata": {},
   "outputs": [],
   "source": []
  }
 ],
 "metadata": {
  "kernelspec": {
   "display_name": "Python 3 (ipykernel)",
   "language": "python",
   "name": "python3"
  },
  "language_info": {
   "codemirror_mode": {
    "name": "ipython",
    "version": 3
   },
   "file_extension": ".py",
   "mimetype": "text/x-python",
   "name": "python",
   "nbconvert_exporter": "python",
   "pygments_lexer": "ipython3",
   "version": "3.11.9"
  }
 },
 "nbformat": 4,
 "nbformat_minor": 5
}
